{
 "cells": [
  {
   "cell_type": "code",
   "execution_count": 1,
   "metadata": {},
   "outputs": [
    {
     "ename": "ImportError",
     "evalue": "No module named 'dodo_detector.detection'",
     "output_type": "error",
     "traceback": [
      "\u001b[0;31m---------------------------------------------------------------------------\u001b[0m",
      "\u001b[0;31mImportError\u001b[0m                               Traceback (most recent call last)",
      "\u001b[0;32m<ipython-input-1-65dadf6fedc0>\u001b[0m in \u001b[0;36m<module>\u001b[0;34m()\u001b[0m\n\u001b[1;32m      4\u001b[0m \u001b[0;32mimport\u001b[0m \u001b[0mos\u001b[0m\u001b[0;34m\u001b[0m\u001b[0m\n\u001b[1;32m      5\u001b[0m \u001b[0;32mimport\u001b[0m \u001b[0mnumpy\u001b[0m \u001b[0;32mas\u001b[0m \u001b[0mnp\u001b[0m\u001b[0;34m\u001b[0m\u001b[0m\n\u001b[0;32m----> 6\u001b[0;31m \u001b[0;32mfrom\u001b[0m \u001b[0mdodo_detector\u001b[0m\u001b[0;34m.\u001b[0m\u001b[0mdetection\u001b[0m \u001b[0;32mimport\u001b[0m \u001b[0mKeypointObjectDetector\u001b[0m\u001b[0;34m,\u001b[0m \u001b[0mSingleShotDetector\u001b[0m\u001b[0;34m\u001b[0m\u001b[0m\n\u001b[0m\u001b[1;32m      7\u001b[0m \u001b[0;32mfrom\u001b[0m \u001b[0mos\u001b[0m\u001b[0;34m.\u001b[0m\u001b[0mpath\u001b[0m \u001b[0;32mimport\u001b[0m \u001b[0misfile\u001b[0m\u001b[0;34m,\u001b[0m \u001b[0mjoin\u001b[0m\u001b[0;34m\u001b[0m\u001b[0m\n\u001b[1;32m      8\u001b[0m \u001b[0;32mfrom\u001b[0m \u001b[0mtqdm\u001b[0m \u001b[0;32mimport\u001b[0m \u001b[0mtqdm\u001b[0m\u001b[0;34m\u001b[0m\u001b[0m\n",
      "\u001b[0;31mImportError\u001b[0m: No module named 'dodo_detector.detection'"
     ]
    }
   ],
   "source": [
    "import csv\n",
    "import cv2\n",
    "import time\n",
    "import os\n",
    "import numpy as np\n",
    "from dodo_detector.detection import KeypointObjectDetector, SingleShotDetector\n",
    "from os.path import isfile, join\n",
    "from tqdm import tqdm"
   ]
  },
  {
   "cell_type": "code",
   "execution_count": null,
   "metadata": {},
   "outputs": [],
   "source": [
    "test_images_dir = 'test_images'\n",
    "bases_sift = [\n",
    "    join('bases_sift/2018', base) for base in os.listdir('bases_sift/2018')\n",
    "    if base != \"originais\"\n",
    "]\n",
    "\n",
    "log_file = 'logfile.csv'\n",
    "photos = sorted([\n",
    "    join(test_images_dir, f) for f in os.listdir(test_images_dir)\n",
    "    if isfile(join(test_images_dir, f))\n",
    "])\n",
    "\n",
    "object_classes = [\n",
    "    'medicine', 'chocolate_milk', 'heineken', 'yellow_juice', 'red_juice',\n",
    "    'purple_juice', 'milk_bottle', 'milk_box', 'cereal', 'iron_man', 'shampoo',\n",
    "    'monster', 'tea_box'\n",
    "]\n",
    "\n",
    "tf_frozen_graph = \"arquivos_tf/frozen_graph.pb\"\n",
    "tf_label_map = \"arquivos_tf/label_map.pbtxt\""
   ]
  },
  {
   "cell_type": "code",
   "execution_count": null,
   "metadata": {},
   "outputs": [],
   "source": [
    "if os.path.exists(log_file):\n",
    "    os.remove(log_file)"
   ]
  },
  {
   "cell_type": "code",
   "execution_count": null,
   "metadata": {},
   "outputs": [],
   "source": [
    "def detect_and_log(photo,\n",
    "                   detector,\n",
    "                   detector_name,\n",
    "                   log_file,\n",
    "                   confidence=None,\n",
    "                   pontos=None,\n",
    "                   base=None):\n",
    "    \n",
    "    # Criando o CSV, se ele não existir\n",
    "    if not os.path.exists(log_file):\n",
    "        with open(log_file, 'a') as csvfile:\n",
    "            objectwriter = csv.writer(\n",
    "                csvfile,\n",
    "                delimiter=',',\n",
    "                quotechar='\"',\n",
    "                quoting=csv.QUOTE_MINIMAL)\n",
    "            objectwriter.writerow([\n",
    "                'sensor', 'detector', 'image', 'time (s)', 'confidence',\n",
    "                'pontos', 'base'\n",
    "            ] + object_classes)\n",
    "\n",
    "    img = cv2.imread(photo)\n",
    "    height, width, channels = img.shape\n",
    "\n",
    "    if width == 1920:\n",
    "        sensor = 'camera_hd'\n",
    "    else:\n",
    "        sensor = 'kinect_velho'\n",
    "\n",
    "    start = time.time()\n",
    "    f, d = detector.from_image(img)  # detecção executada de fato aqui\n",
    "    end = time.time()\n",
    "    frame_rate = end - start\n",
    "    with open(log_file, 'a') as csvfile:\n",
    "        objectwriter = csv.writer(\n",
    "            csvfile, delimiter=',', quotechar='|', quoting=csv.QUOTE_MINIMAL)\n",
    "        list_csv = [\n",
    "            sensor, detector_name,\n",
    "            os.path.splitext(os.path.basename(photo))[0], frame_rate,\n",
    "            confidence, pontos, base\n",
    "        ] + [0] * 13\n",
    "\n",
    "        if len(d) != 0:\n",
    "            for item in d:\n",
    "                if item in object_classes:\n",
    "                    index = object_classes.index(item)\n",
    "                    list_csv[index + 7] = 1\n",
    "\n",
    "        objectwriter.writerow(list_csv)"
   ]
  },
  {
   "cell_type": "code",
   "execution_count": null,
   "metadata": {},
   "outputs": [],
   "source": [
    "ssd_detector = SingleShotDetector(tf_frozen_graph, tf_label_map)\n",
    "for confidence in tqdm(np.arange(0.5, 1.0, 0.05), desc='Confidence'):\n",
    "    ssd_detector.confidence = confidence\n",
    "    for photo in tqdm(photos, desc='Image'):\n",
    "        detect_and_log(photo, ssd_detector, 'ssd', log_file, confidence)\n",
    "\n",
    "for metodo in ['SIFT', 'RootSIFT']:\n",
    "    for base in tqdm(bases_sift, desc='Database'):\n",
    "        sift_detector = KeypointObjectDetector(base, metodo, 'BF', 1)\n",
    "        for pontos in tqdm(range(10, 51, 10), desc='Min pts'):\n",
    "            sift_detector.min_points = pontos\n",
    "            for photo in tqdm(photos, desc='Image'):\n",
    "                detect_and_log(photo, sift_detector, metodo, log_file, None,\n",
    "                               pontos, base)"
   ]
  }
 ],
 "metadata": {
  "kernelspec": {
   "display_name": "Python 3",
   "language": "python",
   "name": "python3"
  },
  "language_info": {
   "codemirror_mode": {
    "name": "ipython",
    "version": 3
   },
   "file_extension": ".py",
   "mimetype": "text/x-python",
   "name": "python",
   "nbconvert_exporter": "python",
   "pygments_lexer": "ipython3",
   "version": "3.5.2"
  }
 },
 "nbformat": 4,
 "nbformat_minor": 2
}
